{
 "cells": [
  {
   "metadata": {},
   "cell_type": "code",
   "outputs": [],
   "execution_count": null,
   "source": [
    "#This script will parse the data taken from the MongoDB database for the last 7 days from Today for the purpose of retraining the model.\n",
    "#A Pandas Dataframe have been created for you to start working with the AI Model. Thanks.\n",
    "#Completed by: Nidula Mallikarachchi (25/04/2025)"
   ],
   "id": "7da9ef0d67c44cf3"
  },
  {
   "metadata": {
    "ExecuteTime": {
     "end_time": "2025-04-25T10:54:55.659451Z",
     "start_time": "2025-04-25T10:54:55.217274Z"
    }
   },
   "cell_type": "code",
   "source": [
    "import os\n",
    "from dotenv import load_dotenv\n",
    "from pymongo import MongoClient\n",
    "import pandas as pd\n",
    "import datetime\n",
    "\n",
    "# Load environment variables\n",
    "load_dotenv()\n",
    "MONGO_URI = os.getenv(\"MONGO_URI\")\n",
    "\n",
    "# Connect to MongoDB\n",
    "client = MongoClient(MONGO_URI)\n",
    "db = client[\"restaurant_training_data\"]\n",
    "\n",
    "# Settings\n",
    "restaurant_id = \"0001\"\n",
    "collection = db[f\"restaurant_{restaurant_id}\"]\n",
    "\n",
    "# Define date range: last 7 days\n",
    "today = datetime.date.today()\n",
    "start_date = (today - datetime.timedelta(days=7)).strftime(\"%Y-%m-%d\")\n",
    "end_date = today.strftime(\"%Y-%m-%d\")\n",
    "\n",
    "# Fetch documents\n",
    "cursor = collection.find({\n",
    "    \"date\": {\"$gte\": start_date, \"$lte\": end_date}\n",
    "})\n",
    "\n",
    "# Flatten nested hourly_data\n",
    "flat_data = []\n",
    "for doc in cursor:\n",
    "    for hour in doc[\"hourly_data\"]:\n",
    "        flat_data.append({\n",
    "            \"restaurant_id\": doc[\"restaurant_id\"],\n",
    "            \"date\": doc[\"date\"],\n",
    "            \"hour\": hour[\"hour\"],\n",
    "            \"day_of_week\": hour[\"day_of_week\"],\n",
    "            \"check_in_count\": hour[\"check_in_count\"],\n",
    "            \"reservations\": hour[\"reservations\"],\n",
    "            \"total_customers\": hour[\"total_customers\"],\n",
    "            \"temperature\": hour[\"temperature\"],\n",
    "            \"weather\": hour[\"weather\"],\n",
    "            \"sentiment\": hour[\"review_sentiment_score\"],\n",
    "            \"average_bill_price\": hour[\"average_bill_price\"],\n",
    "            \"holiday\": hour[\"holiday\"],\n",
    "            \"google_rating\": hour[\"google_rating\"],\n",
    "            \"categories\": \", \".join(hour[\"categories\"]),\n",
    "            \"local_events\": \", \".join(hour[\"local_events\"]) if hour[\"local_events\"] else None\n",
    "        })\n",
    "\n",
    "# Convert to DataFrame\n",
    "df = pd.DataFrame(flat_data)\n",
    "\n",
    "# Display\n",
    "print(\"\\n📊 Parsed Hourly Data:\")\n",
    "print(df.head(10))  # Show first 10 rows\n",
    "print(f\"\\n✅ Total Rows Parsed: {len(df)}\")\n"
   ],
   "id": "73fe20b9868fb4d7",
   "outputs": [
    {
     "name": "stdout",
     "output_type": "stream",
     "text": [
      "\n",
      "📊 Parsed Hourly Data:\n",
      "  restaurant_id        date  hour day_of_week  check_in_count  reservations  \\\n",
      "0          0001  2025-04-25     8      Friday               6             4   \n",
      "1          0001  2025-04-25     9      Friday               7             4   \n",
      "2          0001  2025-04-25    10      Friday               8             4   \n",
      "3          0001  2025-04-25    11      Friday               5             3   \n",
      "4          0001  2025-04-25    12      Friday               7             4   \n",
      "5          0001  2025-04-25    13      Friday              10             6   \n",
      "6          0001  2025-04-25    14      Friday               8             4   \n",
      "7          0001  2025-04-25    15      Friday              12             5   \n",
      "8          0001  2025-04-25    16      Friday              11             7   \n",
      "9          0001  2025-04-25    17      Friday               7             3   \n",
      "\n",
      "   total_customers  temperature weather  sentiment  average_bill_price  \\\n",
      "0               11           17    Mild       0.66               33.23   \n",
      "1               12           11  Cloudy       0.63               29.04   \n",
      "2               11           14  Cloudy       0.89               32.48   \n",
      "3                6           15   Rainy       0.59               32.93   \n",
      "4                8           17  Cloudy       0.69               31.18   \n",
      "5               15           16    Mild       0.87               32.81   \n",
      "6               11           21    Mild       0.75               32.73   \n",
      "7               13           15    Mild       0.65               32.88   \n",
      "8               15           16  Cloudy       0.88               33.32   \n",
      "9               10           18  Cloudy       0.84               31.57   \n",
      "\n",
      "   holiday  google_rating      categories local_events  \n",
      "0     True            4.1  Italian, Pizza         None  \n",
      "1     True            4.0  Italian, Pizza         None  \n",
      "2     True            4.0  Italian, Pizza         None  \n",
      "3     True            4.1  Italian, Pizza         None  \n",
      "4     True            4.3  Italian, Pizza         None  \n",
      "5     True            4.6  Italian, Pizza         None  \n",
      "6     True            4.3  Italian, Pizza         None  \n",
      "7     True            4.2  Italian, Pizza         None  \n",
      "8     True            4.2  Italian, Pizza         None  \n",
      "9     True            4.4  Italian, Pizza         None  \n",
      "\n",
      "✅ Total Rows Parsed: 10\n"
     ]
    }
   ],
   "execution_count": 2
  },
  {
   "metadata": {},
   "cell_type": "code",
   "outputs": [],
   "execution_count": null,
   "source": "",
   "id": "79282462ff15f9b"
  },
  {
   "metadata": {},
   "cell_type": "code",
   "outputs": [],
   "execution_count": null,
   "source": "",
   "id": "23c2c0f61965497c"
  }
 ],
 "metadata": {
  "kernelspec": {
   "display_name": "Python 3",
   "language": "python",
   "name": "python3"
  },
  "language_info": {
   "codemirror_mode": {
    "name": "ipython",
    "version": 2
   },
   "file_extension": ".py",
   "mimetype": "text/x-python",
   "name": "python",
   "nbconvert_exporter": "python",
   "pygments_lexer": "ipython2",
   "version": "2.7.6"
  }
 },
 "nbformat": 4,
 "nbformat_minor": 5
}
